{
 "cells": [
  {
   "cell_type": "code",
   "execution_count": 5,
   "metadata": {},
   "outputs": [
    {
     "name": "stdout",
     "output_type": "stream",
     "text": [
      "['MBR000128', 'MBR000152', 'MBR000153', 'MBR000154', 'MBR000155', 'MBR000020', 'MBR000030', 'MBR000156', 'MBR000024', 'MBR000157', 'MBR000025', 'MBR000168', 'MBR000159', 'MBR000160', 'MBR000037', 'MBR000161', 'MBR000162', 'MBR000163', 'MBR000164', 'MBR000165', 'MBR000166', 'MBR000167']\n",
      "22\n"
     ]
    }
   ],
   "source": [
    "import urllib.request\n",
    "from bs4 import BeautifulSoup\n",
    " \n",
    "url = \"https://council.daejeon.go.kr/svc/cmp/MbrListByPhoto.do\"\n",
    "req = urllib.request.Request(url)\n",
    "sourcecode = urllib.request.urlopen(url).read()\n",
    "soup = BeautifulSoup(sourcecode, \"html.parser\")\n",
    "  \n",
    "\n",
    "#  <ul class=\"family_site clx\"> 태그 안에, <li><a href=\"/member/main?search_code=8013\">\n",
    "# -> ul 태그 안에, class 이름 으로 찾은후. find_all(\"li\") li 태그 아래 값 추출\n",
    "list = []\n",
    "for href in soup.find(\"section\", class_=\"memberphoto\").find_all(\"dl\"):\n",
    "    #print((href.find(\"a\")[\"href\"][27:]))\n",
    "    list.append(href.find(\"a\")[\"href\"][28:])\n",
    "\n",
    "\n",
    "# ['MBR000128', 'MBR000152', 'MBR000153', 'MBR000154', 'MBR000155', 'MBR000020', 'MBR000030', 'MBR000156', 'MBR000024', 'MBR000157', 'MBR000025', 'MBR000168', 'MBR000159', 'MBR000160', 'MBR000037', 'MBR000161', 'MBR000162', 'MBR000163', 'MBR000164', 'MBR000165', 'MBR000166', 'MBR000167']\n",
    "print(list)\n",
    "print(len(list)) # 22명"
   ]
  },
  {
   "cell_type": "code",
   "execution_count": 14,
   "metadata": {},
   "outputs": [
    {
     "name": "stdout",
     "output_type": "stream",
     "text": [
      "의원명*소속 정당*선거구*이메일*사무실 번호*FAX 번호\n",
      "남진근* 더불어민주당* 동구 1(중앙동,효동,신인동,홍도동,삼성동,산내동)* jkn0101@naver.com* 042-270-5099* 042-270-5099\n",
      "이종호* 더불어민주당* 동구 2(판암1동,판암2동,용운동,대동,자양동,대청동)* jhlee5889@nate.com* 042-270-5099* 042-270-5099\n",
      "윤종명* 더불어민주당* 동구 3(가양1동,가양2동,용전동,성남동)* jmyoon4242@hanmail.net* 042-270-5019* 042-270-5019\n",
      "조성칠* 더불어민주당* 중구 1(은행선화동,대흥동,문창동,석교동,대사동,부사동)* sork0724@hanmail.net* 042-270-5189* 042-270-5189\n",
      "홍종원* 더불어민주당* 중구 2(목동,중촌동,용두동,오류동,태평1동,태평2동)* jwhongwin@nate.com* 042-270-5029* 042-270-5029\n",
      "권중순* 더불어민주당* 중구 3(유천1동,유천2동,문화1동,문화2동,산성동)* idtax30@naver.com* 042-270-5009* 042-270-5009\n",
      "박혜련* 더불어민주당* 서구 1(변동,괴정동,가장동,내동)* per570@naver.com* 042-270-5099* 042-270-5099\n",
      "이광복* 더불어민주당* 서구 2(복수동,도마1동,도마2동,정림동)* 705kb@naver.com* 042-270-5079* 042-270-5079\n",
      "김인식* 더불어민주당* 서구 3(가수원동,관저1동,관저2동,기성동)* kis4848@hanmail.net* 042-270-5179* 042-270-5179\n",
      "윤용대* 더불어민주당* 서구 4(용문동,탄방동,갈마1동,갈마2동)* yyd77@hanmail.net* 042-270-5099* 042-270-5099\n",
      "김종천* 더불어민주당* 서구 5(둔산1동,둔산2동,둔산3동)* metro6296@hanmail.net* 042-270-5179* 042-270-5179\n",
      "박수빈* 더불어민주당* 서구 6(월평1동,월평2동,월평3동,만년동)* bin425@nate.com* 042-270-5248* 042-270-5248\n",
      "민태권* 더불어민주당* 유성구 1(진잠동,원신흥동)* mtk3204@naver.com* 042-270-5189* 042-270-5189\n",
      "오광영* 더불어민주당* 유성구 2(온천1동,온천2동,노은1동)* ydoky@hanmail.net* 042-270-5079* 042-270-5079\n",
      "정기현* 더불어민주당* 유성구 3(노은2동,노은3동,신성동)* ikhjung@hanmail.net* 042-270-5248* 042-270-5248\n",
      "구본환* 더불어민주당* 유성구 4(전민동,구즉동,관평동)* guchakhan@hanmail.net* 042-270-5249* 042-270-5249\n",
      "손희역* 더불어민주당* 대덕구 1(오정동,대화동,법1동,법2동)* sonhy2200@naver.com* 042-270-5039* 042-270-5039\n",
      "김찬술* 더불어민주당* 대덕구 2(비래동,송촌동,중리동)* gksdlf7766@naver.com* 042-270-5049* 042-270-5049\n",
      "문성원* 더불어민주당* 대덕구 3(회덕동,신탄진동,석봉동,덕암동,목상동)* mso4002@naver.com* 042-270-5248* 042-270-5248\n",
      "채계순* 더불어민주당* 비례대표* chaegs65@naver.com* 042-270-5079* 042-270-5079\n",
      "우승호* 더불어민주당* 비례대표* dntmdgh11@gmail.com* 042-270-5079* 042-270-5079\n",
      "우애자* 국민의힘* 비례대표* uaeinst@hanmail.net* 042-270-5248* 042-270-5248\n"
     ]
    }
   ],
   "source": [
    "from selenium import webdriver # 셀레니움과 웹드라이버 부르는 모듈함수 \n",
    "\n",
    "driver = webdriver.Chrome('E:\\/chromedriver.exe') # 제어하기 위해 변수 선언\n",
    "driver.maximize_window() ### 창의 해상도 크기 최대화 (전체화면) ###\n",
    "\n",
    "print(\"의원명\",\"소속 정당\",\"선거구\",\"이메일\",\"사무실 번호\",\"FAX 번호\",sep=\"*\")\n",
    "\n",
    "for i in list:\n",
    "    \n",
    "    try :        \n",
    "        driver.get(f\"https://council.daejeon.go.kr/svc/cmp/MbrHpMain.do?mbrCd={i}\")\n",
    "        \n",
    "        name = driver.find_element_by_xpath(\"//*[@id='container1']/div[2]/div[1]/p[1]/strong\") # 이름\n",
    "        Affiliated_party = driver.find_element_by_xpath(\"//*[@id='container1']/div[2]/div[1]/dl/dd[2]\") # 선거구     \n",
    "        local = driver.find_element_by_xpath(\"//*[@id='container1']/div[2]/div[1]/dl/dd[3]\") # 소속 정당\n",
    "        email = driver.find_element_by_xpath(\"//*[@id='container1']/div[2]/div[1]/dl/dd[6]\") # 이메일\n",
    "        office = driver.find_element_by_xpath(\"//*[@id='container1']/div[2]/div[1]/dl/dd[5]\") # 사무실\n",
    "        FAX = driver.find_element_by_xpath(\"//*[@id='container1']/div[2]/div[1]/dl/dd[5]\") # FAX 번호\n",
    "        \n",
    "        print(name.text,local.text,Affiliated_party.text,email.text,office.text,FAX.text,sep=\"*\")\n",
    "        \n",
    "    except :\n",
    "        pass"
   ]
  },
  {
   "cell_type": "code",
   "execution_count": null,
   "metadata": {},
   "outputs": [],
   "source": []
  }
 ],
 "metadata": {
  "kernelspec": {
   "display_name": "Python 3",
   "language": "python",
   "name": "python3"
  },
  "language_info": {
   "codemirror_mode": {
    "name": "ipython",
    "version": 3
   },
   "file_extension": ".py",
   "mimetype": "text/x-python",
   "name": "python",
   "nbconvert_exporter": "python",
   "pygments_lexer": "ipython3",
   "version": "3.8.8"
  }
 },
 "nbformat": 4,
 "nbformat_minor": 4
}
