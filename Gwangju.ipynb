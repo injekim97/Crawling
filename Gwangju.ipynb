{
 "cells": [
  {
   "cell_type": "code",
   "execution_count": 1,
   "metadata": {},
   "outputs": [
    {
     "name": "stdout",
     "output_type": "stream",
     "text": [
      "['08070', '00716', '08040', '08100', '08060', '08010', '08080', '00715', '08050', '08030']\n"
     ]
    }
   ],
   "source": [
    "import requests\n",
    "from bs4 import BeautifulSoup\n",
    "\n",
    "resp = requests.get('https://www.gjcouncil.go.kr/kr/member/name.do')\n",
    "soup = BeautifulSoup(resp.text, \"html.parser\")\n",
    "\n",
    "\n",
    "# ★ 아래 >의 의미는 div 태그에 id 값이 member_list의 안에 있는(>) ul에 안에 있는(>) li에 안에 있는(>) a태그를 선택한다라는 의미임.★\n",
    "# soup.select(\"태그(div)[속성(id)='id값'] > \")\n",
    "list = []\n",
    "for i in soup.select(\"div[id='member_list'] > ul > li > a\"):\n",
    "    #print(i) # <a href=\"/member/08070/main.do\" rel=\"noopener noreferrer\" target=\"_blank\" title=\"새창열림\">임일혁</a>\n",
    "    #print(i['href'].split(\"/\")[2])\n",
    "    list.append(i['href'].split(\"/\")[2]) # 여기서, i에서['href']에서 split(\"/\")로 구분자 지정 후 인덱싱으로 추출함\n",
    "    \n",
    "print(list)"
   ]
  },
  {
   "cell_type": "code",
   "execution_count": 3,
   "metadata": {},
   "outputs": [
    {
     "name": "stdout",
     "output_type": "stream",
     "text": [
      "의원이름*선거구*휴대폰 번호*이메일\n",
      "임일혁*라선거구(오포읍)*010-5399-4374*ldadlfgur@naver.com\n",
      "현자섭*다선거구(초월읍, 곤지암읍, 도척면)*010-3759-4545*samaru61@naver.com\n",
      "동희영*라선거구(오포읍)*010-3386-2753*dong5067@naver.com\n",
      "황소제*비례대표*010-2357-1970*soje1970@naver.com\n",
      "이은채*나선거구(쌍령동, 경안동, 광남1동, 광남2동)*010-7342-9870*eunchae0126 @naver.com\n",
      "방세환*가선거구(퇴촌면,남종면,남한산성면, 탄벌동, 송정동)*010-6357-0507*bsh6357@naver.com\n",
      "주임록*가선거구(퇴촌면,남종면,남한산성면, 탄벌동, 송정동)*010-8781-0115*juimrok1@naver.com\n",
      "박현철*나선거구(쌍령동, 경안동, 광남1동, 광남2동)*010-4225-4041*miraewow@naver.com\n",
      "이미영*나선거구(쌍령동, 경안동, 광남1동, 광남2동)*010-3022-4907*andante9191@hanmail.net\n",
      "박상영*다선거구(초월읍, 곤지암읍, 도척면)*010-3788-0347*paa0347@naver.com\n"
     ]
    }
   ],
   "source": [
    "from selenium import webdriver # 셀레늄과 웹 드라이버 부르는 모듈 함수\n",
    "driver = webdriver.Chrome('E:\\/chromedriver.exe') # 크롬드라이버가 깔린 경로를 지정\n",
    "driver.maximize_window() ### 창의 해상도 크기 최대화 (전체 화면) ###\n",
    "\n",
    " \n",
    "\n",
    "print(\"의원이름\",\"선거구\",\"휴대폰 번호\",\"이메일\",sep=\"*\")\n",
    "for i in list:\n",
    "    try :       \n",
    "        driver.get(f\"https://www.gjcouncil.go.kr/member/{i}/profile.do\")\n",
    "        \n",
    "        name = driver.find_element_by_xpath(\"//*[@id='sub_profile']/div[2]/ul/li[1]/span[2]\") # 이름\n",
    "        Affiliated_party = driver.find_element_by_xpath(\"//*[@id='sub_profile']/div[2]/ul/li[2]/span[2]\") # 선거구    \n",
    "        phone_number = driver.find_element_by_xpath(\"//*[@id='sub_profile']/div[2]/ul/li[3]/span[2]\") # 휴대폰 번호 \n",
    "        email = driver.find_element_by_xpath(\"//*[@id='sub_profile']/div[2]/ul/li[4]/span[2]\") # 이메일\n",
    "\n",
    "        print(name.text,Affiliated_party.text,phone_number.text,email.text,sep=\"*\")\n",
    "\n",
    "    except :\n",
    "        pass\n"
   ]
  },
  {
   "cell_type": "code",
   "execution_count": null,
   "metadata": {},
   "outputs": [],
   "source": []
  }
 ],
 "metadata": {
  "kernelspec": {
   "display_name": "Python 3",
   "language": "python",
   "name": "python3"
  },
  "language_info": {
   "codemirror_mode": {
    "name": "ipython",
    "version": 3
   },
   "file_extension": ".py",
   "mimetype": "text/x-python",
   "name": "python",
   "nbconvert_exporter": "python",
   "pygments_lexer": "ipython3",
   "version": "3.8.8"
  }
 },
 "nbformat": 4,
 "nbformat_minor": 4
}
