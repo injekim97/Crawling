{
 "cells": [
  {
   "cell_type": "code",
   "execution_count": 168,
   "metadata": {},
   "outputs": [
    {
     "name": "stdout",
     "output_type": "stream",
     "text": [
      "['7620212', '7670126', '7670420', '7650601', '7890930', '7800407', '7660925', '7641102', '7731222', '7801011', '7570803', '7770106', '7590808', '7700831', '7580115', '7710713', '7680112', '7621125', '7711117', '7680213', '7640925', '7591214']\n"
     ]
    }
   ],
   "source": [
    "# link 값 => memCode 값 추출하는 방법 1\n",
    "\n",
    "import urllib.request\n",
    "from bs4 import BeautifulSoup\n",
    " \n",
    "url = \"https://www.council.ulsan.kr/kor/councillor/viewByPerson.do\"\n",
    "req = urllib.request.Request(url)\n",
    "sourcecode = urllib.request.urlopen(url).read()\n",
    "soup = BeautifulSoup(sourcecode, \"html.parser\")\n",
    "      \n",
    "\n",
    "\n",
    "list = []\n",
    "\n",
    "for i in soup.find(\"div\", class_=\"memList memList-col-3\").find_all(\"a\"):\n",
    "    # 해당 출력값((i)- div 접근하여 , memList 해서 아래에 있는 a태그) 에서, ['href'] == \"#LINK\" 라면 pass로 저장 X \n",
    "    if(i['href'] == \"#LINK\"):\n",
    "        pass\n",
    "    \n",
    "    # 아니라면, i['href'] 값에서 [-7]로 마지막 값만 추출\n",
    "    else : \n",
    "        #print((i['href'][-7:]))\n",
    "        list.append((i['href'][-7:]))\n",
    "\n",
    "print(list)    "
   ]
  },
  {
   "cell_type": "code",
   "execution_count": 166,
   "metadata": {},
   "outputs": [
    {
     "name": "stdout",
     "output_type": "stream",
     "text": [
      "['7620212', '7670126', '7670420', '7650601', '7890930', '7800407', '7660925', '7641102', '7731222', '7801011', '7570803', '7770106', '7590808', '7700831', '7580115', '7710713', '7680112', '7621125', '7711117', '7680213', '7640925', '7591214']\n",
      "22\n"
     ]
    }
   ],
   "source": [
    "# link 값 => memCode 값 추출하는 방법 2\n",
    "\n",
    "import urllib.request\n",
    "from bs4 import BeautifulSoup\n",
    " \n",
    "url = \"https://www.council.ulsan.kr/kor/councillor/viewByPerson.do\"\n",
    "req = urllib.request.Request(url)\n",
    "sourcecode = urllib.request.urlopen(url).read()\n",
    "soup = BeautifulSoup(sourcecode, \"html.parser\")\n",
    "\n",
    "list = []\n",
    "# # soup.select(.class명) , 여기서 클래스는.으로 접근\n",
    "for i in soup.select('.btn-home'):         # class명이 btn-home으로 접근하여,\n",
    "    #print((i['href'].split('=')[-1]))      # 접근한 출력값에 ['href'] 즉 , href에서 split('=')로 구분해줌.\n",
    "    list.append((i['href'].split('=')[-1])) # 구분된 값에서 마지막 인덱스만 출력 -1\n",
    "print(list)\n",
    "print(len(list))"
   ]
  },
  {
   "cell_type": "code",
   "execution_count": 167,
   "metadata": {},
   "outputs": [
    {
     "name": "stdout",
     "output_type": "stream",
     "text": [
      "의원명*소속 정당*선거구*이메일*사무실 번호*FAX 번호\n",
      "고호근*소속정당 : 국민의힘*선거구 : 중구 제2선거구*이메일 : go0108599@naver.com*사무실 : 052-229-5020\n",
      "김미형*소속정당 : 더불어민주당*선거구 : 비례대표*이메일 : boy6639@hanmail.net*사무실 : 052-229-5022\n",
      "김선미*소속정당 : 더불어민주당*선거구 : 남구 제5선거구*이메일 : hanul704@hanmail.net*사무실 : 052-229-5026\n",
      "김성록*소속정당 : 더불어민주당*선거구 : 중구 제4선거구*이메일 : usmap@hanmail.net*사무실 : 052-229-5037\n",
      "김시현*소속정당 : 더불어민주당*선거구 : 비례대표*이메일 : algus2685@naver.com*사무실 : 052-229-5041\n",
      "김종섭*소속정당 : 국민의힘*선거구 : 비례대표*이메일 : milkis1980@hanmail.net*사무실 : 052-229-5033\n",
      "박병석*소속정당 : 더불어민주당*선거구 : 북구 제1선거구*이메일 : greenps@hanmail.net*사무실 : 052-229-5000\n",
      "백운찬*소속정당 : 더불어민주당 (원내대표)*선거구 : 북구 제2선거구*이메일 : nongso23@hanmail.net*사무실 : 052-229-5027\n",
      "서휘웅*소속정당 : 더불어민주당*선거구 : 울주군 제1선거구*이메일 : ulsan-no1@naver.com*사무실 : 052-229-5021\n",
      "손근호*소속정당 : 더불어민주당*선거구 : 북구 제3선거구*이메일 : root1118@naver.com*사무실 : 052-229-5025\n",
      "손종학*소속정당 : 더불어민주당*선거구 : 남구 제2선거구*이메일 : sjhak5759@naver.com*사무실 : 052-229-5010\n",
      "안도영*소속정당 : 더불어민주당*선거구 : 남구 제4선거구*이메일 : onagent@naver.com*사무실 : 052-229-5038\n",
      "안수일*소속정당 : 국민의힘*선거구 : 남구 제1선거구*이메일 : ahn5888@hanmail.net*사무실 : 052-229-5035\n",
      "윤덕권*소속정당 : 더불어민주당*선거구 : 울주군 제2선거구*이메일 : lg32@naver.com*사무실 : 052-229-5032\n",
      "윤정록*소속정당 : 국민의힘 (원내대표)*선거구 : 울주군 제3선거구*이메일 : yoon2239@gmail.com*사무실 : 052-229-5039\n",
      "이미영*소속정당 : 더불어민주당*선거구 : 남구 제3선거구*이메일 : lmyoo@daum.net*사무실 : 052-229-5028\n",
      "이상옥*소속정당 : 더불어민주당*선거구 : 중구 제3선거구*이메일 : sang4340@hanmail.net*사무실 : 052-229-5023\n",
      "이시우*소속정당 : 더불어민주당*선거구 : 동구 제3선거구*이메일 : lsw7575@hanmail.net*사무실 : 052-229-5024\n",
      "장윤호*소속정당 : 더불어민주당*선거구 : 남구 제6선거구*이메일 : meiz119@naver.com*사무실 : 052-229-5036\n",
      "전영희*소속정당 : 더불어민주당*선거구 : 동구 제1선거구*이메일 : jyh5105@hanmail.net*사무실 : 052-229-5034\n",
      "천기옥*소속정당 : 국민의힘*선거구 : 동구 제2선거구*이메일 : ulsan9101@hanmail.net*사무실 : 052-229-5042\n",
      "황세영*소속정당 : 더불어민주당*선거구 : 중구 제1선거구*이메일 : hsy_0139@naver.com*사무실 : 052-229-5031\n"
     ]
    }
   ],
   "source": [
    "from selenium import webdriver # 셀레니움과 웹드라이버 부르는 모듈함수 \n",
    "\n",
    "driver = webdriver.Chrome('E:\\/chromedriver.exe') # 제어하기 위해 변수 선언\n",
    "driver.maximize_window() ### 창의 해상도 크기 최대화 (전체화면) ###\n",
    "\n",
    "print(\"의원명\",\"소속 정당\",\"선거구\",\"이메일\",\"사무실 번호\",\"FAX 번호\",sep=\"*\")\n",
    "\n",
    "\n",
    "\n",
    "for i in list:\n",
    "    try :        \n",
    "        driver.get(f\"https://www.council.ulsan.kr/mem/index.do?memCode={i}\")\n",
    "        \n",
    "        name = driver.find_element_by_xpath(\"//*[@id='divHeader']/div/div/div/h1/a/span[2]\") # 이름\n",
    "        Affiliated_party = driver.find_element_by_xpath(\"//*[@id='divContents']/article[1]/div/div[2]/div[3]/ul/li[2]\") # 선거구     \n",
    "        local = driver.find_element_by_xpath(\"//*[@id='divContents']/article[1]/div/div[2]/div[3]/ul/li[1]\") # 소속 정당\n",
    "        email = driver.find_element_by_xpath(\"//*[@id='divContents']/article[1]/div/div[2]/div[3]/ul/li[5]\") # 이메일\n",
    "        office = driver.find_element_by_xpath(\"//*[@id='divContents']/article[1]/div/div[2]/div[3]/ul/li[3]/a\") # 사무실\n",
    "        \n",
    "        print(name.text[0:3],local.text,Affiliated_party.text,email.text,office.text,sep=\"*\")\n",
    "        \n",
    "    except :\n",
    "        pass"
   ]
  },
  {
   "cell_type": "code",
   "execution_count": null,
   "metadata": {},
   "outputs": [],
   "source": []
  },
  {
   "cell_type": "code",
   "execution_count": null,
   "metadata": {},
   "outputs": [],
   "source": []
  }
 ],
 "metadata": {
  "kernelspec": {
   "display_name": "Python 3",
   "language": "python",
   "name": "python3"
  },
  "language_info": {
   "codemirror_mode": {
    "name": "ipython",
    "version": 3
   },
   "file_extension": ".py",
   "mimetype": "text/x-python",
   "name": "python",
   "nbconvert_exporter": "python",
   "pygments_lexer": "ipython3",
   "version": "3.8.8"
  }
 },
 "nbformat": 4,
 "nbformat_minor": 4
}
