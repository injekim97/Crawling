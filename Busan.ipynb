{
 "cells": [
  {
   "cell_type": "code",
   "execution_count": 10,
   "metadata": {
    "scrolled": true
   },
   "outputs": [
    {
     "name": "stdout",
     "output_type": "stream",
     "text": [
      "47\n",
      "{'yiyongchan', 'kimjonghan2', 'kimdongha', 'kimmungi', 'packsungyoon', 'kodaeyoung', 'jungjongmin', 'kimkwangmo', 'leesungsook', 'kwakdonghyuk', 'leehyun', 'leesoonyoung', 'parkinyoung', 'kimjinhong2', 'doyonghoi', 'chocheolho', 'kimhyelin', 'baeyongjoon', 'ohwonse', 'kimminjung', 'parkminsung', 'kimsamsoo', 'kimjaeyoung', 'nohgiseob', 'leesanha', 'jeongsangchae', 'choiyounga', 'leedongho', 'yoonjiyoung', 'kimtaehoon', 'parkseunghwan', 'leejoohwan', 'leeyonghyoung', 'kimjeongryang', 'sinsanghae', 'kimbumin', 'kimgwangmyeong', 'parkheungsik', 'moonchangmoo', 'gookyungmin', 'leejunghwa', 'sohnyonggu', 'nameonwook', 'kimdongil', 'jedaewook', 'choidosuck', 'Jonamgu'}\n"
     ]
    }
   ],
   "source": [
    "import urllib.request\n",
    "from bs4 import BeautifulSoup\n",
    " \n",
    "url = \"https://council.busan.go.kr/council/past02\"\n",
    "req = urllib.request.Request(url)\n",
    "sourcecode = urllib.request.urlopen(url).read()\n",
    "soup = BeautifulSoup(sourcecode, \"html.parser\")\n",
    "  \n",
    "    \n",
    "# <a class=\"detail\" href=\"http://council.busan.go.kr/kodaeyoung\" title=\"홈페이지 바로가기 (새창)\" target=\"_blank\">고대영</a>   \n",
    "# 해당 태그 안에  <input type=\"hidden\" name=\"dir_url\" value=\"kodaeyoung\">\n",
    "# ul 태그 안에, class 이름 으로 찾은후. find_all(\"li\") li 태그 아래 값 추출\n",
    "list = []\n",
    "for href in soup.find(\"ul\", class_=\"inmemList\").find_all(\"li\"):\n",
    "    #print((href.find(\"a\")[\"href\"][27:]))\n",
    "    list.append(href.find(\"a\")[\"href\"][27:])\n",
    "\n",
    "    \n",
    "\n",
    "print(len(set(list))) # 의원 수가 제대로 정확하게 나왔는지 체크하기 위한 용도\n",
    "print(set(list)) # set 키워드로 중복제거되는지? -> 출력해보니 확인 OK\n",
    "list = set(list) # 위에서 확인 됐으니, 해당 list에 set으로 감싸서 저장함 -> set 리스트내 중복제거"
   ]
  },
  {
   "cell_type": "code",
   "execution_count": 13,
   "metadata": {},
   "outputs": [
    {
     "name": "stdout",
     "output_type": "stream",
     "text": [
      "의원명*소속정당*지역구*이메일*사무실*휴대폰 번호*FAX 번호\n",
      "이영찬*소속정당 : 국민의힘*지역구 : 비례대표*20chanc@hanmail.net*사무실 : 888-8211~2*FAX : 888-8639\n",
      "김종한*소속정당 : 무소속*지역구 : 동구2(수정5동, 좌천동, 범일1,2,5동)*jhkim@mstg.co.kr*사무실 : 888-8175~6*폰번호 : 010-5877-3377\n",
      "김동하*소속정당 : 무소속*지역구 : 사하구1(괴정1,2,3,4동)*kdh3456@hanmail.net*사무실 : 888-8205~6*폰번호 : 010-8200-4799\n",
      "김문기*소속정당 : 더불어민주당*지역구 : 동래구3(안락1,2동, 명장1,2동)*mungi5545@hanmail.net*사무실 : 888-8181~2*폰번호 : 010-3856-8259\n",
      "박성윤*소속정당 : 더불어민주당*지역구 : 영도구2(청학2동, 동삼1,2,3동)*medo22@naver.com*사무실 : 888-8253~4*폰번호 : 010-3874-5609\n",
      "고대영*소속정당 : 더불어민주당*지역구 : 영도구1(남항동, 영선1,2동, 신선동, 봉래1,2동, 청학1동)*fivetonothing@daum.net*사무실 : 888-8080~1*폰번호 : 010-2230-4404\n",
      "정종민*소속정당 : 더불어민주당*지역구 : 비례대표*peakjade@gmail.com*사무실 : 888-8060~1*폰번호 : 010-4596-7722\n",
      "김광모*소속정당 : 더불어민주당*지역구 : 해운대구2(좌1,2,3,4동, 송정동, 중2동)*noja68@naver.com*사무실 : 888-8163~4*FAX : 888-8619\n",
      "이성숙*소속정당 : 더불어민주당*지역구 : 사하구2(당리동, 하단1,2동)*undp1199@hanmail.net*사무실 : 888-8207~8*폰번호 : 010-7373-6436\n",
      "곽동혁*소속정당 : 더불어민주당*지역구 : 수영구2(수영동, 망미1,2동, 민락동)*labor119@naver.com*사무실 : 888-8185~6*FAX : 888-8629\n",
      "이현\n",
      "*소속정당 : 더불어민주당*지역구 : 부산진구4(가야2동, 개금1,2,3동)*rokleehyun@naver.com*사무실 : 888-8070~1*FAX : 888-8529\n",
      "이순영*소속정당 : 더불어민주당*지역구 : 북구4(화명1,3동)*tinda_kr@hanmail.net*사무실 : 888-8090~1*폰번호 : 010-2558-1995\n",
      "박인영*주소 : 부산광역시 연제구 중앙대로 1001(연산동) 부산광역시의회 의원연구실 403호*지역구 : 금정구2(장전1,2,3동, 남산동, 구서1,2동, 금성동)*minjooinyoung@gmail.com*폰번호 : 010-5883-1396*FAX : 888-8649\n",
      "김진홍*소속정당 : 국민의힘*지역구 : 동구1(초량1,2,3,6동, 수정1,2,4동)*jheagle@nate.com*사무실 : 888-8131~2*폰번호 : 010-9609-9609\n",
      "도용회*소속정당 : 더불어민주당*지역구 : 동래구2(온천1,2,3동, 사직1,2,3동)*yong9005@daum.net*사무실 : 888-8040~1*FAX : 888-8489\n",
      "조철호*소속정당 : 더불어민주당*지역구 : 남구1(대연1,3,4,5,6동)*5903391@naver.com*사무실 : 888-8121~2*폰번호 : 010-2226-3515\n",
      "김혜린*소속정당 : 더불어민주당*지역구 : 비례대표*rapindrum@gmail.com*사무실 : 888-8251~2*FAX : 888-8649\n",
      "배용준*소속정당 : 더불어민주당*지역구 : 부산진구1(부전1동, 연지동, 초읍동, 양정1,2동)*921yonsama@naver.com*사무실 : 888-8213~4*폰번호 : 010-2953-0003\n",
      "오원세*소속정당 : 더불어민주당*지역구 : 강서구2(명지2동, 녹산동, 가덕도동)*own2009@naver.com*사무실 : 888-8171~2*폰번호 : 010-3303-5030\n",
      "김민정*소속정당 : 더불어민주당*지역구 : 기장군1(기장읍)*wjd21cc@hanmail.net*사무실 : 888-8243~4*폰번호 : 010-5601-0513\n",
      "박민성*소속정당 : 더불어민주당*지역구 : 동래구1(수민동, 복산동, 명륜동)*parkminsung3@daum.net*사무실 : 888-8191~2*폰번호 : 010-3832-6848\n",
      "김삼수*소속정당 : 더불어민주당*지역구 : 해운대구3(반여2,3동, 재송1,2동)*sam0311@nate.com*사무실 : 888-8193~4*폰번호 : 010-4853-4169\n",
      "김재영*소속정당 : 더불어민주당*지역구 : 사하구3(신평1,2동, 구평동, 감천1,2동)*kjy194910@daum.net*사무실 : 888-8233~4*폰번호 : 010-2963-7662\n",
      "노기섭*소속정당 : 더불어민주당*지역구 : 북구2(덕천1,3동, 만덕1,2,3동)*anti89@hanmail.net*사무실 : 888-8177~8*폰번호 : 010-8559-2893\n",
      "이산하*소속정당 : 국민의힘*지역구 : 남구4(문현1,2,3,4동)*leesanha.busan@gmail.com*사무실 : 888-8241~2*폰번호 : 010-3591-0480\n",
      "정상채*소속정당 : 더불어민주당*지역구 : 부산진구2(부암1,3동, 당감1,2,4동)*jscbusan@daum.net*사무실 : 888-8030~1*FAX : 888-8469\n",
      "최영아*소속정당 : 더불어민주당*지역구 : 비례대표*cya33@hanmail.net*사무실 : 888-8231~2*폰번호 : 010-3435-2235\n",
      "이동호*소속정당 : 더불어민주당*지역구 : 북구3(금곡동, 화명2동)*ldh2206@naver.com*사무실 : 888-8010*폰번호 : 010-5555-7707\n",
      "윤지영*소속정당 : 국민의힘*지역구 : 비례대표*jyyoon70@hanmail.net*사무실 : 888-8237~8*폰번호 : 010-8291-1004\n",
      "김태훈*소속정당 : 더불어민주당*지역구 : 연제구1(거제1,2,3,4동, 연산2,4,5동)*8852x9635@gmail.com*사무실 : 888-8050~1*폰번호 : 010-8852-9635\n",
      "박승환*소속정당 : 더불어민주당*지역구 : 연제구2(연산1,3,6,8,9동)*parksh0620@hanmail.net*사무실 : 888-8215~6*폰번호 : 010-2845-0554\n",
      "이주환*소속정당 : 더불어민주당*지역구 : 해운대구1(우1,2,3동, 중1동)*sekang48@naver.com*사무실 : 888-8153~4*폰번호 : 010-8797-9321\n",
      "이용형*소속정당 : 더불어민주당*지역구 : 남구3(용당동, 우암동, 감만1,2동)*lyh2277@naver.com*사무실 : 888-8225~6*폰번호 : 010-9632-7238\n",
      "김정량*소속정당 : 더불어민주당*지역구 : 사하구4(장림1,2동, 다대1,2동)*ekeo7070@naver.com*사무실 : 888-8221~2*폰번호 : 010-5397-7070\n",
      "신상해*소속정당 : 더불어민주당*지역구 : 사상구2(주례1,2,3동, 학장동, 엄궁동)*ssha56@hanmail.net*사무실 : 888-8001*폰번호 : 010-9667-0580\n",
      "김부민*소속정당 : 더불어민주당*지역구 : 사상구1(삼락동, 모라1,3동, 덕포1,2동, 괘법동, 감전동)*ssfringe303@daum.net*사무실 : 888-8183~4*FAX : 888-8629\n",
      "김광명*소속정당 : 국민의힘*지역구 : 남구2(용호1,2,3,4동)*kimgm2010@naver.com*사무실 : 888-8195~6*폰번호 : 010-8257-0001\n",
      "박흥식*소속정당 : 더불어민주당*지역구 : 서구1(동대신1,2,3동, 서대신1,3,4동, 부민동)*seoguphs@naver.com*사무실 : 888-8203~4*폰번호 : 010-5390-8206\n",
      "문창무*소속정당 : 더불어민주당*지역구 : 중구(중앙동, 대청동, 영주1,2동, 동광동, 보수동, 부평동, 광복동, 남포동)*canon2728@naver.com*사무실 : 888-8255~6*FAX : 888-8649\n",
      "구경민*소속정당 : 더불어민주당*지역구 : 기장군2(정관읍, 장안읍, 일광면, 철마면)*goya0527@hanmail.net*사무실 : 888-8245~6*FAX : 888-8649\n",
      "이정화*소속정당 : 더불어민주당*지역구 : 수영구1(남천1,2동, 광안1,2,3,4동)*delicacy82@gmail.com*사무실 : 888-8247~8*폰번호 : 010-8284-8547\n",
      "손용구*소속정당 : 더불어민주당*지역구 : 부산진구3(부전2동, 전포1,2동, 가야1동, 범천1,2동)*syg7188@naver.com*사무실 : 888-8173~4*FAX : 888-8629\n",
      "남언욱*소속정당 : 더불어민주당*지역구 : 해운대구4(반여1,4동, 반송1,2동)*eonwook@daum.net*사무실 : 888-8201~2*폰번호 : 010-9301-4985\n",
      "김동일*소속정당 : 더불어민주당*지역구 : 강서구1(대저1,2동, 강동동, 가락동, 명지동)*feelsung0613@naver.com*사무실 : 888-8223~4*FAX : 888-8639\n",
      "제대욱*소속정당 : 더불어민주당*지역구 : 금정구1(서1,2,3동, 금사동, 부곡1,2,3,4동, 선두구동, 청룡노포동)*adan94@hanmail.net*사무실 : 888-8187~8*FAX : 888-8629\n",
      "최도석*소속정당 : 국민의힘*지역구 : 서구2(아미동, 초장동, 충무동, 남부민1,2동, 암남동)*korea423@hanmail.net*사무실 : 888-8020*FAX : 888-8029\n",
      "조남구*소속정당 : 더불어민주당*지역구 : 북구1(구포1,2,3동, 덕천2동)*tgtg5189@naver.com*사무실 : 888-8217~8*폰번호 : 010-2758-5189\n",
      "종료\n"
     ]
    }
   ],
   "source": [
    "from selenium import webdriver # 셀레니움과 웹드라이버 부르는 모듈함수 \n",
    "\n",
    "driver = webdriver.Chrome('E:\\/chromedriver.exe') # 제어하기 위해 변수 선언\n",
    "\n",
    "### 창의 해상도 크기 최대화 (전체화면) ###\n",
    "driver.maximize_window()\n",
    "\n",
    "\n",
    "# 여기서 왜 구분자를 ,가 아닌 *로 줬냐? 지역구에, 때문에 엑셀로 구분할 때 겹침 -> 그래서 아예 안겹치는 *로 함.\n",
    "print(\"의원명\",\"소속정당\",\"지역구\",\"이메일\",\"사무실\",\"휴대폰 번호\",\"FAX 번호\",sep=\"*\")\n",
    "for i in list:\n",
    "    #print(i)\n",
    "    driver.get(f\"https://council.busan.go.kr/{i}/profile\")\n",
    "    name = driver.find_element_by_xpath(\"//*[@id='container']/div[1]/div/div/div[2]/div[1]/p\") # 의원 이름\n",
    "    Affiliated_party = driver.find_element_by_xpath(\"//*[@id='scontent']/div[2]/article/div[2]/ul[1]/li[3]\") # 소속 정당     \n",
    "    local = driver.find_element_by_xpath(\"//*[@id='scontent']/div[2]/article/div[2]/ul[1]/li[1]\") # 지역\n",
    "    email = driver.find_element_by_xpath(\"//*[@id='scontent']/div[2]/article/div[1]/ul/li[1]\") # 이메일\n",
    "    office = driver.find_element_by_xpath(\"//*[@id='scontent']/div[2]/article/div[2]/ul[1]/li[4]\") # 사무실\n",
    "    phone = driver.find_element_by_xpath(\"//*[@id='scontent']/div[2]/article/div[2]/ul[1]/li[5]\") #휴대폰 번호\n",
    "    FAX = driver.find_element_by_xpath(\"//*[@id='scontent']/div[2]/article/div[2]/ul[1]/li[6]\") # FAX 번호\n",
    "        \n",
    "    # 여기서 왜 구분자를 ,가 아닌 *로 줬냐? 지역구에, 때문에 엑셀로 구분할 때 겹침 -> 그래서 아예 안겹치는 *로 함.\n",
    "    print(name.text[0:3],Affiliated_party.text,local.text,email.text,phone.text,FAX.text,sep=\"*\")\n"
   ]
  },
  {
   "cell_type": "code",
   "execution_count": null,
   "metadata": {},
   "outputs": [],
   "source": []
  }
 ],
 "metadata": {
  "kernelspec": {
   "display_name": "Python 3",
   "language": "python",
   "name": "python3"
  },
  "language_info": {
   "codemirror_mode": {
    "name": "ipython",
    "version": 3
   },
   "file_extension": ".py",
   "mimetype": "text/x-python",
   "name": "python",
   "nbconvert_exporter": "python",
   "pygments_lexer": "ipython3",
   "version": "3.8.8"
  }
 },
 "nbformat": 4,
 "nbformat_minor": 4
}
